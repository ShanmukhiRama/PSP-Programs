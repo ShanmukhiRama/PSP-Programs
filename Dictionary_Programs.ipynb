{
  "nbformat": 4,
  "nbformat_minor": 0,
  "metadata": {
    "colab": {
      "provenance": [],
      "authorship_tag": "ABX9TyMXEx8y+F3/GX1nITXwLIOZ",
      "include_colab_link": true
    },
    "kernelspec": {
      "name": "python3",
      "display_name": "Python 3"
    },
    "language_info": {
      "name": "python"
    }
  },
  "cells": [
    {
      "cell_type": "markdown",
      "metadata": {
        "id": "view-in-github",
        "colab_type": "text"
      },
      "source": [
        "<a href=\"https://colab.research.google.com/github/ShanmukhiRama/PSP-Programs/blob/main/Dictionary_Programs.ipynb\" target=\"_parent\"><img src=\"https://colab.research.google.com/assets/colab-badge.svg\" alt=\"Open In Colab\"/></a>"
      ]
    },
    {
      "cell_type": "code",
      "source": [],
      "metadata": {
        "id": "D0c116NIFjvQ"
      },
      "execution_count": null,
      "outputs": []
    },
    {
      "cell_type": "code",
      "source": [
        "#program dictionary of name of persons with their mobile numbers and search for mobile number for given person.\n",
        "my_dir=dict()  #create blank dictionary\n",
        "i=1\n",
        "while(True):\n",
        "  print(\"Enter name of person\"+\" #\" + str(i)+\" =\",end=' ')\n",
        "  nn=input()\n",
        "  print(\"Enter his/her mobile number=\",end=' ')\n",
        "  mm=input()\n",
        "  my_dir[nn]=mm #add key:value pair to dictionary\n",
        "  print()\n",
        "  yes_no=input(\"DO you want to enter more data[Y/N]\")\n",
        "  if yes_no in ['Y','y']:\n",
        "      i+=1\n",
        "      continue\n",
        "  else:\n",
        "      break\n",
        "print(\"\\n Current Dictionary :\\n\")\n",
        "print('*'*25)\n",
        "print(my_dir)\n",
        "print('*'*25)\n",
        "print(\"\\n To search names......\")\n",
        "while(True):\n",
        "     print()\n",
        "     txt=input(\"Enter name: \")\n",
        "     if txt in my_dir:\n",
        "         print(\"Mobile number of \" ,txt,\"is\",my_dir[txt])\n",
        "     else:\n",
        "         print(txt,\"not found in directory....\")\n",
        "     print()\n",
        "     yes_no=input(\"DO you want to enter more data[Y/N]\")\n",
        "     if yes_no in ['Y','y']:\n",
        "            continue\n",
        "     else:\n",
        "            break\n",
        "print(\"\\n Program executed successfully....\")\n",
        "    \n"
      ],
      "metadata": {
        "id": "rU5_C9rZFfvH"
      },
      "execution_count": null,
      "outputs": []
    },
    {
      "cell_type": "code",
      "source": [
        "#Dictionary Accumulation example\n",
        "\n",
        "txt=\"Magic Quadrant (MQ) is a series of market research reports published by IT consulting firm Gartner that rely on proprietary qualitative data analysis methods to demonstrate market trends, such as direction, maturity and participants.[1] Their analyses are conducted for several specific technology industries and are updated every 1–2 years: once an updated report has been published its predecessor is retired.[2]\"\n",
        "letter_counts = {} # start with an empty dictionary\n",
        "for c in txt:\n",
        "    if c not in letter_counts:\n",
        "        # we have not seen this character before, so initialize a counter for it\n",
        "        letter_counts[c] = 1\n",
        "    else: \n",
        "      #whether we've seen it before or not, increment its counter\n",
        "      letter_counts[c] = letter_counts[c] + 1\n",
        "\n",
        "#letter_values = {'a': 1, 'b': 3, 'c': 3, 'd': 2, 'e': 1, 'f':4, 'g': 2, 'h':4, 'i':1, 'j':8, 'k':5, 'l':1, 'm':3, 'n':1, 'o':1, 'p':3, 'q':10, 'r':1, 's':1, 't':1, 'u':1, 'v':4, 'w':4, 'x':8, 'y':4, 'z':10}\n",
        "\n",
        "print(letter_counts)\n",
        "\n",
        "tot = 0\n",
        "for letter in letter_counts:\n",
        "    if letter in letter_counts:\n",
        "        tot = tot + letter_counts[letter] \n",
        "\n",
        "print(tot)\n",
        "     \n"
      ],
      "metadata": {
        "id": "gY_FQXQAFdni"
      },
      "execution_count": null,
      "outputs": []
    }
  ]
}